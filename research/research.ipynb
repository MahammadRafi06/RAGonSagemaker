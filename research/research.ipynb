{
 "cells": [
  {
   "cell_type": "code",
   "execution_count": 2,
   "id": "ddf77556",
   "metadata": {},
   "outputs": [],
   "source": [
    "from pathlib import Path\n",
    "from dotenv import dotenv_values\n",
    "def read_envfile(path:Path):\n",
    "    env_vars = dict(dotenv_values(path))\n",
    "    return env_vars"
   ]
  },
  {
   "cell_type": "code",
   "execution_count": 6,
   "id": "a92f1b4d",
   "metadata": {},
   "outputs": [
    {
     "data": {
      "text/plain": [
       "{'\"SAGEMAKER_MODEL_SERVER_WORKERS\"': '1',\n",
       " '\"TS_DEFAULT_WORKERS_PER_MODEL\"': '1'}"
      ]
     },
     "execution_count": 6,
     "metadata": {},
     "output_type": "execute_result"
    }
   ],
   "source": [
    "read_envfile(Path(\"../embedding.env\"))"
   ]
  },
  {
   "cell_type": "code",
   "execution_count": 2,
   "id": "73b0fb56",
   "metadata": {},
   "outputs": [],
   "source": [
    "properties = {\"engine\": \"MPI\", \"option.model_id\": \"tiiuae/falcon-7b-instruct\", \"option.trust_remote_code\": \"true\", \"option.tensor_parallel_degree\": 1, \"option.paged_attention\": \"true\", \"option.max_rolling_batch_size\": 64, \"option.rolling_batch\": \"lmi-dist\", \"option.max_rolling_batch_prefill_tokens\": 1560}"
   ]
  },
  {
   "cell_type": "code",
   "execution_count": 6,
   "id": "8bb5e751",
   "metadata": {},
   "outputs": [],
   "source": [
    "with open(\"../falcon-7b-instruct/serving.properties\", \"w\") as f:\n",
    "    for pro in properties.items():\n",
    "        p,v = pro\n",
    "        f.write(f\"{p}={v} \\n\")\n",
    "    "
   ]
  }
 ],
 "metadata": {
  "kernelspec": {
   "display_name": "rag",
   "language": "python",
   "name": "python3"
  },
  "language_info": {
   "codemirror_mode": {
    "name": "ipython",
    "version": 3
   },
   "file_extension": ".py",
   "mimetype": "text/x-python",
   "name": "python",
   "nbconvert_exporter": "python",
   "pygments_lexer": "ipython3",
   "version": "3.10.16"
  }
 },
 "nbformat": 4,
 "nbformat_minor": 5
}
